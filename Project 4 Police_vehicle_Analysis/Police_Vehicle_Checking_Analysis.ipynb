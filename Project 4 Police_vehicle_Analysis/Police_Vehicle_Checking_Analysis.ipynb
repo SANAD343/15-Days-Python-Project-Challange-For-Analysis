{
 "cells": [
  {
   "cell_type": "markdown",
   "id": "d70efd42-5df9-4c3d-83ce-fb2bc25b9e7c",
   "metadata": {},
   "source": [
    "# Dataset Link\n",
    "https://www.kaggle.com/code/rohitgrewal/police-data-analysis\n",
    "\n",
    "# Questions need to analyze in this dataset\n",
    "\n",
    "* Instruction ( For Data Cleaning ) - Remove the column that only contains missing values.\n",
    "* Question ( Based on Filtering + Value Counts ) - For Speeding , were Men or Women stopped more often ? \n",
    "* Question ( Groupby ) - Does gender affect who gets searched during a stop ?\n",
    "* Question ( mapping + data-type casting ) - What is the mean stop_duration ?\n",
    "* Question ( Groupby , Describe ) - Compare the age distributions for each violation."
   ]
  },
  {
   "cell_type": "code",
   "execution_count": 27,
   "id": "b3a74e58-ef11-4693-b531-a2239770e53a",
   "metadata": {},
   "outputs": [],
   "source": [
    "# Import the dataset and required libraries"
   ]
  },
  {
   "cell_type": "code",
   "execution_count": 28,
   "id": "cdf14b56-8815-43a6-9b41-c8c9f44e9942",
   "metadata": {},
   "outputs": [],
   "source": [
    "import pandas as pd\n",
    "import matplotlib.pyplot as plt"
   ]
  },
  {
   "cell_type": "code",
   "execution_count": 29,
   "id": "6128d014-1060-4a3e-92f2-8843d2ca1d7d",
   "metadata": {},
   "outputs": [],
   "source": [
    "df=pd.read_csv(\"Police Dataset.csv\")"
   ]
  },
  {
   "cell_type": "code",
   "execution_count": 30,
   "id": "3e3117a7-4770-4d6c-b488-e637d23a6cad",
   "metadata": {},
   "outputs": [
    {
     "data": {
      "text/html": [
       "<div>\n",
       "<style scoped>\n",
       "    .dataframe tbody tr th:only-of-type {\n",
       "        vertical-align: middle;\n",
       "    }\n",
       "\n",
       "    .dataframe tbody tr th {\n",
       "        vertical-align: top;\n",
       "    }\n",
       "\n",
       "    .dataframe thead th {\n",
       "        text-align: right;\n",
       "    }\n",
       "</style>\n",
       "<table border=\"1\" class=\"dataframe\">\n",
       "  <thead>\n",
       "    <tr style=\"text-align: right;\">\n",
       "      <th></th>\n",
       "      <th>stop_date</th>\n",
       "      <th>stop_time</th>\n",
       "      <th>country_name</th>\n",
       "      <th>driver_gender</th>\n",
       "      <th>driver_age_raw</th>\n",
       "      <th>driver_age</th>\n",
       "      <th>driver_race</th>\n",
       "      <th>violation_raw</th>\n",
       "      <th>violation</th>\n",
       "      <th>search_conducted</th>\n",
       "      <th>search_type</th>\n",
       "      <th>stop_outcome</th>\n",
       "      <th>is_arrested</th>\n",
       "      <th>stop_duration</th>\n",
       "      <th>drugs_related_stop</th>\n",
       "    </tr>\n",
       "  </thead>\n",
       "  <tbody>\n",
       "    <tr>\n",
       "      <th>0</th>\n",
       "      <td>1/2/2005</td>\n",
       "      <td>1:55</td>\n",
       "      <td>NaN</td>\n",
       "      <td>M</td>\n",
       "      <td>1985.0</td>\n",
       "      <td>20.0</td>\n",
       "      <td>White</td>\n",
       "      <td>Speeding</td>\n",
       "      <td>Speeding</td>\n",
       "      <td>False</td>\n",
       "      <td>NaN</td>\n",
       "      <td>Citation</td>\n",
       "      <td>False</td>\n",
       "      <td>0-15 Min</td>\n",
       "      <td>False</td>\n",
       "    </tr>\n",
       "    <tr>\n",
       "      <th>1</th>\n",
       "      <td>1/18/2005</td>\n",
       "      <td>8:15</td>\n",
       "      <td>NaN</td>\n",
       "      <td>M</td>\n",
       "      <td>1965.0</td>\n",
       "      <td>40.0</td>\n",
       "      <td>White</td>\n",
       "      <td>Speeding</td>\n",
       "      <td>Speeding</td>\n",
       "      <td>False</td>\n",
       "      <td>NaN</td>\n",
       "      <td>Citation</td>\n",
       "      <td>False</td>\n",
       "      <td>0-15 Min</td>\n",
       "      <td>False</td>\n",
       "    </tr>\n",
       "    <tr>\n",
       "      <th>2</th>\n",
       "      <td>1/23/2005</td>\n",
       "      <td>23:15</td>\n",
       "      <td>NaN</td>\n",
       "      <td>M</td>\n",
       "      <td>1972.0</td>\n",
       "      <td>33.0</td>\n",
       "      <td>White</td>\n",
       "      <td>Speeding</td>\n",
       "      <td>Speeding</td>\n",
       "      <td>False</td>\n",
       "      <td>NaN</td>\n",
       "      <td>Citation</td>\n",
       "      <td>False</td>\n",
       "      <td>0-15 Min</td>\n",
       "      <td>False</td>\n",
       "    </tr>\n",
       "    <tr>\n",
       "      <th>3</th>\n",
       "      <td>2/20/2005</td>\n",
       "      <td>17:15</td>\n",
       "      <td>NaN</td>\n",
       "      <td>M</td>\n",
       "      <td>1986.0</td>\n",
       "      <td>19.0</td>\n",
       "      <td>White</td>\n",
       "      <td>Call for Service</td>\n",
       "      <td>Other</td>\n",
       "      <td>False</td>\n",
       "      <td>NaN</td>\n",
       "      <td>Arrest Driver</td>\n",
       "      <td>True</td>\n",
       "      <td>16-30 Min</td>\n",
       "      <td>False</td>\n",
       "    </tr>\n",
       "    <tr>\n",
       "      <th>4</th>\n",
       "      <td>3/14/2005</td>\n",
       "      <td>10:00</td>\n",
       "      <td>NaN</td>\n",
       "      <td>F</td>\n",
       "      <td>1984.0</td>\n",
       "      <td>21.0</td>\n",
       "      <td>White</td>\n",
       "      <td>Speeding</td>\n",
       "      <td>Speeding</td>\n",
       "      <td>False</td>\n",
       "      <td>NaN</td>\n",
       "      <td>Citation</td>\n",
       "      <td>False</td>\n",
       "      <td>0-15 Min</td>\n",
       "      <td>False</td>\n",
       "    </tr>\n",
       "  </tbody>\n",
       "</table>\n",
       "</div>"
      ],
      "text/plain": [
       "   stop_date stop_time  country_name driver_gender  driver_age_raw  \\\n",
       "0   1/2/2005      1:55           NaN             M          1985.0   \n",
       "1  1/18/2005      8:15           NaN             M          1965.0   \n",
       "2  1/23/2005     23:15           NaN             M          1972.0   \n",
       "3  2/20/2005     17:15           NaN             M          1986.0   \n",
       "4  3/14/2005     10:00           NaN             F          1984.0   \n",
       "\n",
       "   driver_age driver_race     violation_raw violation  search_conducted  \\\n",
       "0        20.0       White          Speeding  Speeding             False   \n",
       "1        40.0       White          Speeding  Speeding             False   \n",
       "2        33.0       White          Speeding  Speeding             False   \n",
       "3        19.0       White  Call for Service     Other             False   \n",
       "4        21.0       White          Speeding  Speeding             False   \n",
       "\n",
       "  search_type   stop_outcome is_arrested stop_duration  drugs_related_stop  \n",
       "0         NaN       Citation       False      0-15 Min               False  \n",
       "1         NaN       Citation       False      0-15 Min               False  \n",
       "2         NaN       Citation       False      0-15 Min               False  \n",
       "3         NaN  Arrest Driver        True     16-30 Min               False  \n",
       "4         NaN       Citation       False      0-15 Min               False  "
      ]
     },
     "execution_count": 30,
     "metadata": {},
     "output_type": "execute_result"
    }
   ],
   "source": [
    "df.head()"
   ]
  },
  {
   "cell_type": "code",
   "execution_count": 31,
   "id": "fe5ef9ff-8656-4f28-b67a-84e967f149e9",
   "metadata": {},
   "outputs": [
    {
     "data": {
      "text/plain": [
       "(65535, 15)"
      ]
     },
     "execution_count": 31,
     "metadata": {},
     "output_type": "execute_result"
    }
   ],
   "source": [
    "df.shape"
   ]
  },
  {
   "cell_type": "code",
   "execution_count": 32,
   "id": "d082fe53-1d99-4637-8984-0703b80222e6",
   "metadata": {},
   "outputs": [
    {
     "data": {
      "text/plain": [
       "983025"
      ]
     },
     "execution_count": 32,
     "metadata": {},
     "output_type": "execute_result"
    }
   ],
   "source": [
    "df.size"
   ]
  },
  {
   "cell_type": "code",
   "execution_count": 33,
   "id": "51863b03-cc88-4046-81bf-f1213b98d486",
   "metadata": {},
   "outputs": [
    {
     "data": {
      "text/plain": [
       "2"
      ]
     },
     "execution_count": 33,
     "metadata": {},
     "output_type": "execute_result"
    }
   ],
   "source": [
    "df.ndim"
   ]
  },
  {
   "cell_type": "code",
   "execution_count": 34,
   "id": "66cc1ca0-95c7-45a7-a9ee-331f2278f4e1",
   "metadata": {},
   "outputs": [
    {
     "data": {
      "text/plain": [
       "<bound method DataFrame.info of        stop_date stop_time  country_name driver_gender  driver_age_raw  \\\n",
       "0       1/2/2005      1:55           NaN             M          1985.0   \n",
       "1      1/18/2005      8:15           NaN             M          1965.0   \n",
       "2      1/23/2005     23:15           NaN             M          1972.0   \n",
       "3      2/20/2005     17:15           NaN             M          1986.0   \n",
       "4      3/14/2005     10:00           NaN             F          1984.0   \n",
       "...          ...       ...           ...           ...             ...   \n",
       "65530  12/6/2012     17:54           NaN             F          1987.0   \n",
       "65531  12/6/2012     22:22           NaN             M          1954.0   \n",
       "65532  12/6/2012     23:20           NaN             M          1985.0   \n",
       "65533  12/7/2012      0:23           NaN           NaN             NaN   \n",
       "65534  12/7/2012      0:30           NaN             F          1985.0   \n",
       "\n",
       "       driver_age driver_race                   violation_raw  violation  \\\n",
       "0            20.0       White                        Speeding   Speeding   \n",
       "1            40.0       White                        Speeding   Speeding   \n",
       "2            33.0       White                        Speeding   Speeding   \n",
       "3            19.0       White                Call for Service      Other   \n",
       "4            21.0       White                        Speeding   Speeding   \n",
       "...           ...         ...                             ...        ...   \n",
       "65530        25.0       White                        Speeding   Speeding   \n",
       "65531        58.0       White                        Speeding   Speeding   \n",
       "65532        27.0       Black  Equipment/Inspection Violation  Equipment   \n",
       "65533         NaN         NaN                             NaN        NaN   \n",
       "65534        27.0       White                        Speeding   Speeding   \n",
       "\n",
       "       search_conducted search_type   stop_outcome is_arrested stop_duration  \\\n",
       "0                 False         NaN       Citation       False      0-15 Min   \n",
       "1                 False         NaN       Citation       False      0-15 Min   \n",
       "2                 False         NaN       Citation       False      0-15 Min   \n",
       "3                 False         NaN  Arrest Driver        True     16-30 Min   \n",
       "4                 False         NaN       Citation       False      0-15 Min   \n",
       "...                 ...         ...            ...         ...           ...   \n",
       "65530             False         NaN       Citation       False      0-15 Min   \n",
       "65531             False         NaN        Warning       False      0-15 Min   \n",
       "65532             False         NaN       Citation       False      0-15 Min   \n",
       "65533             False         NaN            NaN         NaN           NaN   \n",
       "65534             False         NaN       Citation       False      0-15 Min   \n",
       "\n",
       "       drugs_related_stop  \n",
       "0                   False  \n",
       "1                   False  \n",
       "2                   False  \n",
       "3                   False  \n",
       "4                   False  \n",
       "...                   ...  \n",
       "65530               False  \n",
       "65531               False  \n",
       "65532               False  \n",
       "65533               False  \n",
       "65534               False  \n",
       "\n",
       "[65535 rows x 15 columns]>"
      ]
     },
     "execution_count": 34,
     "metadata": {},
     "output_type": "execute_result"
    }
   ],
   "source": [
    "df.info"
   ]
  },
  {
   "cell_type": "code",
   "execution_count": 35,
   "id": "e1112087-b46b-49cd-a3ce-104393c0b32f",
   "metadata": {},
   "outputs": [
    {
     "data": {
      "text/html": [
       "<div>\n",
       "<style scoped>\n",
       "    .dataframe tbody tr th:only-of-type {\n",
       "        vertical-align: middle;\n",
       "    }\n",
       "\n",
       "    .dataframe tbody tr th {\n",
       "        vertical-align: top;\n",
       "    }\n",
       "\n",
       "    .dataframe thead th {\n",
       "        text-align: right;\n",
       "    }\n",
       "</style>\n",
       "<table border=\"1\" class=\"dataframe\">\n",
       "  <thead>\n",
       "    <tr style=\"text-align: right;\">\n",
       "      <th></th>\n",
       "      <th>country_name</th>\n",
       "      <th>driver_age_raw</th>\n",
       "      <th>driver_age</th>\n",
       "    </tr>\n",
       "  </thead>\n",
       "  <tbody>\n",
       "    <tr>\n",
       "      <th>count</th>\n",
       "      <td>0.0</td>\n",
       "      <td>61481.000000</td>\n",
       "      <td>61228.000000</td>\n",
       "    </tr>\n",
       "    <tr>\n",
       "      <th>mean</th>\n",
       "      <td>NaN</td>\n",
       "      <td>1967.791106</td>\n",
       "      <td>34.148984</td>\n",
       "    </tr>\n",
       "    <tr>\n",
       "      <th>std</th>\n",
       "      <td>NaN</td>\n",
       "      <td>121.050106</td>\n",
       "      <td>12.760710</td>\n",
       "    </tr>\n",
       "    <tr>\n",
       "      <th>min</th>\n",
       "      <td>NaN</td>\n",
       "      <td>0.000000</td>\n",
       "      <td>15.000000</td>\n",
       "    </tr>\n",
       "    <tr>\n",
       "      <th>25%</th>\n",
       "      <td>NaN</td>\n",
       "      <td>1965.000000</td>\n",
       "      <td>23.000000</td>\n",
       "    </tr>\n",
       "    <tr>\n",
       "      <th>50%</th>\n",
       "      <td>NaN</td>\n",
       "      <td>1978.000000</td>\n",
       "      <td>31.000000</td>\n",
       "    </tr>\n",
       "    <tr>\n",
       "      <th>75%</th>\n",
       "      <td>NaN</td>\n",
       "      <td>1985.000000</td>\n",
       "      <td>43.000000</td>\n",
       "    </tr>\n",
       "    <tr>\n",
       "      <th>max</th>\n",
       "      <td>NaN</td>\n",
       "      <td>8801.000000</td>\n",
       "      <td>88.000000</td>\n",
       "    </tr>\n",
       "  </tbody>\n",
       "</table>\n",
       "</div>"
      ],
      "text/plain": [
       "       country_name  driver_age_raw    driver_age\n",
       "count           0.0    61481.000000  61228.000000\n",
       "mean            NaN     1967.791106     34.148984\n",
       "std             NaN      121.050106     12.760710\n",
       "min             NaN        0.000000     15.000000\n",
       "25%             NaN     1965.000000     23.000000\n",
       "50%             NaN     1978.000000     31.000000\n",
       "75%             NaN     1985.000000     43.000000\n",
       "max             NaN     8801.000000     88.000000"
      ]
     },
     "execution_count": 35,
     "metadata": {},
     "output_type": "execute_result"
    }
   ],
   "source": [
    "df.describe()"
   ]
  },
  {
   "cell_type": "markdown",
   "id": "2a836035-9247-4a36-9552-52c6894ff6c8",
   "metadata": {},
   "source": [
    "# Data Cleaning"
   ]
  },
  {
   "cell_type": "markdown",
   "id": "2349ee7a-291a-4d2a-b97f-0ffa53e1bf73",
   "metadata": {},
   "source": [
    "Check for the missing value and remove the records"
   ]
  },
  {
   "cell_type": "code",
   "execution_count": 36,
   "id": "91c36e65-642d-4c15-bce1-138516cdd461",
   "metadata": {},
   "outputs": [
    {
     "data": {
      "text/plain": [
       "stop_date                 0\n",
       "stop_time                 0\n",
       "country_name          65535\n",
       "driver_gender          4061\n",
       "driver_age_raw         4054\n",
       "driver_age             4307\n",
       "driver_race            4060\n",
       "violation_raw          4060\n",
       "violation              4060\n",
       "search_conducted          0\n",
       "search_type           63056\n",
       "stop_outcome           4060\n",
       "is_arrested            4060\n",
       "stop_duration          4060\n",
       "drugs_related_stop        0\n",
       "dtype: int64"
      ]
     },
     "execution_count": 36,
     "metadata": {},
     "output_type": "execute_result"
    }
   ],
   "source": [
    "df.isnull().sum()"
   ]
  },
  {
   "cell_type": "markdown",
   "id": "7dbfdb13-4f4e-4ec2-b286-20597252679d",
   "metadata": {},
   "source": [
    "As we can see, \"country_name\" column is not required for analysis, so we can drop that column"
   ]
  },
  {
   "cell_type": "code",
   "execution_count": 37,
   "id": "28adb444-101d-42bc-9d3d-3cc1d1cfc8a3",
   "metadata": {},
   "outputs": [],
   "source": [
    "df.drop(columns = \"country_name\",inplace=True)"
   ]
  },
  {
   "cell_type": "code",
   "execution_count": 38,
   "id": "74349417-da79-4cf3-a2ae-65a55f3a2267",
   "metadata": {},
   "outputs": [
    {
     "data": {
      "text/html": [
       "<div>\n",
       "<style scoped>\n",
       "    .dataframe tbody tr th:only-of-type {\n",
       "        vertical-align: middle;\n",
       "    }\n",
       "\n",
       "    .dataframe tbody tr th {\n",
       "        vertical-align: top;\n",
       "    }\n",
       "\n",
       "    .dataframe thead th {\n",
       "        text-align: right;\n",
       "    }\n",
       "</style>\n",
       "<table border=\"1\" class=\"dataframe\">\n",
       "  <thead>\n",
       "    <tr style=\"text-align: right;\">\n",
       "      <th></th>\n",
       "      <th>stop_date</th>\n",
       "      <th>stop_time</th>\n",
       "      <th>driver_gender</th>\n",
       "      <th>driver_age_raw</th>\n",
       "      <th>driver_age</th>\n",
       "      <th>driver_race</th>\n",
       "      <th>violation_raw</th>\n",
       "      <th>violation</th>\n",
       "      <th>search_conducted</th>\n",
       "      <th>search_type</th>\n",
       "      <th>stop_outcome</th>\n",
       "      <th>is_arrested</th>\n",
       "      <th>stop_duration</th>\n",
       "      <th>drugs_related_stop</th>\n",
       "    </tr>\n",
       "  </thead>\n",
       "  <tbody>\n",
       "    <tr>\n",
       "      <th>0</th>\n",
       "      <td>1/2/2005</td>\n",
       "      <td>1:55</td>\n",
       "      <td>M</td>\n",
       "      <td>1985.0</td>\n",
       "      <td>20.0</td>\n",
       "      <td>White</td>\n",
       "      <td>Speeding</td>\n",
       "      <td>Speeding</td>\n",
       "      <td>False</td>\n",
       "      <td>NaN</td>\n",
       "      <td>Citation</td>\n",
       "      <td>False</td>\n",
       "      <td>0-15 Min</td>\n",
       "      <td>False</td>\n",
       "    </tr>\n",
       "    <tr>\n",
       "      <th>1</th>\n",
       "      <td>1/18/2005</td>\n",
       "      <td>8:15</td>\n",
       "      <td>M</td>\n",
       "      <td>1965.0</td>\n",
       "      <td>40.0</td>\n",
       "      <td>White</td>\n",
       "      <td>Speeding</td>\n",
       "      <td>Speeding</td>\n",
       "      <td>False</td>\n",
       "      <td>NaN</td>\n",
       "      <td>Citation</td>\n",
       "      <td>False</td>\n",
       "      <td>0-15 Min</td>\n",
       "      <td>False</td>\n",
       "    </tr>\n",
       "  </tbody>\n",
       "</table>\n",
       "</div>"
      ],
      "text/plain": [
       "   stop_date stop_time driver_gender  driver_age_raw  driver_age driver_race  \\\n",
       "0   1/2/2005      1:55             M          1985.0        20.0       White   \n",
       "1  1/18/2005      8:15             M          1965.0        40.0       White   \n",
       "\n",
       "  violation_raw violation  search_conducted search_type stop_outcome  \\\n",
       "0      Speeding  Speeding             False         NaN     Citation   \n",
       "1      Speeding  Speeding             False         NaN     Citation   \n",
       "\n",
       "  is_arrested stop_duration  drugs_related_stop  \n",
       "0       False      0-15 Min               False  \n",
       "1       False      0-15 Min               False  "
      ]
     },
     "execution_count": 38,
     "metadata": {},
     "output_type": "execute_result"
    }
   ],
   "source": [
    "df.head(2)"
   ]
  },
  {
   "cell_type": "markdown",
   "id": "f5485c0b-46a6-43e1-a845-b0427b51f4b2",
   "metadata": {},
   "source": [
    "* For speeding, check how many Men or Women are stopped more often?"
   ]
  },
  {
   "cell_type": "code",
   "execution_count": 39,
   "id": "7ce2c4ea-b9bd-4b00-a7e9-030eeaa537b6",
   "metadata": {},
   "outputs": [
    {
     "data": {
      "text/plain": [
       "driver_gender\n",
       "M    25517\n",
       "F    11686\n",
       "Name: count, dtype: int64"
      ]
     },
     "execution_count": 39,
     "metadata": {},
     "output_type": "execute_result"
    }
   ],
   "source": [
    "df[df.violation == \"Speeding\"]. driver_gender.value_counts()"
   ]
  },
  {
   "cell_type": "markdown",
   "id": "7727ea80-a075-4e5c-a976-bf84803c0450",
   "metadata": {},
   "source": [
    "* Does gender affect who gets searched during a stop?"
   ]
  },
  {
   "cell_type": "code",
   "execution_count": 40,
   "id": "b6e335e5-e76e-495b-816a-46dcc3fc2f8e",
   "metadata": {},
   "outputs": [
    {
     "data": {
      "text/plain": [
       "driver_gender\n",
       "F     366\n",
       "M    2113\n",
       "Name: search_conducted, dtype: int64"
      ]
     },
     "execution_count": 40,
     "metadata": {},
     "output_type": "execute_result"
    }
   ],
   "source": [
    "df.groupby(\"driver_gender\").search_conducted.sum() # groupby used to make a group of each unique values present in a column"
   ]
  },
  {
   "cell_type": "markdown",
   "id": "2e178231-779f-4566-a6de-245651b284c9",
   "metadata": {},
   "source": [
    "* How many times search was conducted?"
   ]
  },
  {
   "cell_type": "code",
   "execution_count": 41,
   "id": "3146148c-37a3-403d-ba4d-eedc491e4ad5",
   "metadata": {},
   "outputs": [
    {
     "data": {
      "text/plain": [
       "search_conducted\n",
       "False    63056\n",
       "True      2479\n",
       "Name: count, dtype: int64"
      ]
     },
     "execution_count": 41,
     "metadata": {},
     "output_type": "execute_result"
    }
   ],
   "source": [
    "df.search_conducted.value_counts()"
   ]
  },
  {
   "cell_type": "markdown",
   "id": "f483a37a-2d28-465f-b787-80b928a84576",
   "metadata": {},
   "source": [
    "## Mapping + Data-type Casting"
   ]
  },
  {
   "cell_type": "markdown",
   "id": "79932d7e-e321-464b-8a3a-b26b70cb239b",
   "metadata": {},
   "source": [
    "What is the mean stop_duration?"
   ]
  },
  {
   "cell_type": "markdown",
   "id": "708fd08f-858c-4cae-913d-8e7f2fa8b648",
   "metadata": {},
   "source": [
    "* Mapping - We've to map the new values to the column\n",
    "* Data - type casting -- to convert data-type of one element to another : string--> float"
   ]
  },
  {
   "cell_type": "code",
   "execution_count": 42,
   "id": "8eee374e-8b69-492f-99d2-f64456e82ce8",
   "metadata": {},
   "outputs": [
    {
     "data": {
      "text/html": [
       "<div>\n",
       "<style scoped>\n",
       "    .dataframe tbody tr th:only-of-type {\n",
       "        vertical-align: middle;\n",
       "    }\n",
       "\n",
       "    .dataframe tbody tr th {\n",
       "        vertical-align: top;\n",
       "    }\n",
       "\n",
       "    .dataframe thead th {\n",
       "        text-align: right;\n",
       "    }\n",
       "</style>\n",
       "<table border=\"1\" class=\"dataframe\">\n",
       "  <thead>\n",
       "    <tr style=\"text-align: right;\">\n",
       "      <th></th>\n",
       "      <th>stop_date</th>\n",
       "      <th>stop_time</th>\n",
       "      <th>driver_gender</th>\n",
       "      <th>driver_age_raw</th>\n",
       "      <th>driver_age</th>\n",
       "      <th>driver_race</th>\n",
       "      <th>violation_raw</th>\n",
       "      <th>violation</th>\n",
       "      <th>search_conducted</th>\n",
       "      <th>search_type</th>\n",
       "      <th>stop_outcome</th>\n",
       "      <th>is_arrested</th>\n",
       "      <th>stop_duration</th>\n",
       "      <th>drugs_related_stop</th>\n",
       "    </tr>\n",
       "  </thead>\n",
       "  <tbody>\n",
       "    <tr>\n",
       "      <th>0</th>\n",
       "      <td>1/2/2005</td>\n",
       "      <td>1:55</td>\n",
       "      <td>M</td>\n",
       "      <td>1985.0</td>\n",
       "      <td>20.0</td>\n",
       "      <td>White</td>\n",
       "      <td>Speeding</td>\n",
       "      <td>Speeding</td>\n",
       "      <td>False</td>\n",
       "      <td>NaN</td>\n",
       "      <td>Citation</td>\n",
       "      <td>False</td>\n",
       "      <td>0-15 Min</td>\n",
       "      <td>False</td>\n",
       "    </tr>\n",
       "    <tr>\n",
       "      <th>1</th>\n",
       "      <td>1/18/2005</td>\n",
       "      <td>8:15</td>\n",
       "      <td>M</td>\n",
       "      <td>1965.0</td>\n",
       "      <td>40.0</td>\n",
       "      <td>White</td>\n",
       "      <td>Speeding</td>\n",
       "      <td>Speeding</td>\n",
       "      <td>False</td>\n",
       "      <td>NaN</td>\n",
       "      <td>Citation</td>\n",
       "      <td>False</td>\n",
       "      <td>0-15 Min</td>\n",
       "      <td>False</td>\n",
       "    </tr>\n",
       "  </tbody>\n",
       "</table>\n",
       "</div>"
      ],
      "text/plain": [
       "   stop_date stop_time driver_gender  driver_age_raw  driver_age driver_race  \\\n",
       "0   1/2/2005      1:55             M          1985.0        20.0       White   \n",
       "1  1/18/2005      8:15             M          1965.0        40.0       White   \n",
       "\n",
       "  violation_raw violation  search_conducted search_type stop_outcome  \\\n",
       "0      Speeding  Speeding             False         NaN     Citation   \n",
       "1      Speeding  Speeding             False         NaN     Citation   \n",
       "\n",
       "  is_arrested stop_duration  drugs_related_stop  \n",
       "0       False      0-15 Min               False  \n",
       "1       False      0-15 Min               False  "
      ]
     },
     "execution_count": 42,
     "metadata": {},
     "output_type": "execute_result"
    }
   ],
   "source": [
    "df.head(2)"
   ]
  },
  {
   "cell_type": "markdown",
   "id": "33e4f2ea-d4a6-4d89-8505-911b7b50a3ee",
   "metadata": {},
   "source": [
    "* To find how many unique values are present in stop_duration."
   ]
  },
  {
   "cell_type": "code",
   "execution_count": 43,
   "id": "6c0bc112-4ad3-49e3-8c2b-8fcf5ead9ef4",
   "metadata": {},
   "outputs": [
    {
     "data": {
      "text/plain": [
       "stop_duration\n",
       "0-15 Min     47379\n",
       "16-30 Min    11448\n",
       "30+ Min       2647\n",
       "2                1\n",
       "Name: count, dtype: int64"
      ]
     },
     "execution_count": 43,
     "metadata": {},
     "output_type": "execute_result"
    }
   ],
   "source": [
    "df.stop_duration.value_counts()"
   ]
  },
  {
   "cell_type": "markdown",
   "id": "c89a5884-202b-4406-8072-28661cb67527",
   "metadata": {},
   "source": [
    "Now, map new values to the column data, 0-15 Min: 7, 16-30 Min: 24,30+ Min:45"
   ]
  },
  {
   "cell_type": "code",
   "execution_count": 44,
   "id": "5276da65-6ed8-4d09-9a23-8ca9b9edb0b5",
   "metadata": {},
   "outputs": [],
   "source": [
    "df[\"stop_duration\"]=df[\"stop_duration\"].map({'0-15 Min': 7, '16-30 Min': 24, '30+ Min':45})"
   ]
  },
  {
   "cell_type": "code",
   "execution_count": 45,
   "id": "c4c72862-bab7-41bf-94e7-22dbe569bde5",
   "metadata": {},
   "outputs": [
    {
     "data": {
      "text/html": [
       "<div>\n",
       "<style scoped>\n",
       "    .dataframe tbody tr th:only-of-type {\n",
       "        vertical-align: middle;\n",
       "    }\n",
       "\n",
       "    .dataframe tbody tr th {\n",
       "        vertical-align: top;\n",
       "    }\n",
       "\n",
       "    .dataframe thead th {\n",
       "        text-align: right;\n",
       "    }\n",
       "</style>\n",
       "<table border=\"1\" class=\"dataframe\">\n",
       "  <thead>\n",
       "    <tr style=\"text-align: right;\">\n",
       "      <th></th>\n",
       "      <th>stop_date</th>\n",
       "      <th>stop_time</th>\n",
       "      <th>driver_gender</th>\n",
       "      <th>driver_age_raw</th>\n",
       "      <th>driver_age</th>\n",
       "      <th>driver_race</th>\n",
       "      <th>violation_raw</th>\n",
       "      <th>violation</th>\n",
       "      <th>search_conducted</th>\n",
       "      <th>search_type</th>\n",
       "      <th>stop_outcome</th>\n",
       "      <th>is_arrested</th>\n",
       "      <th>stop_duration</th>\n",
       "      <th>drugs_related_stop</th>\n",
       "    </tr>\n",
       "  </thead>\n",
       "  <tbody>\n",
       "    <tr>\n",
       "      <th>0</th>\n",
       "      <td>1/2/2005</td>\n",
       "      <td>1:55</td>\n",
       "      <td>M</td>\n",
       "      <td>1985.0</td>\n",
       "      <td>20.0</td>\n",
       "      <td>White</td>\n",
       "      <td>Speeding</td>\n",
       "      <td>Speeding</td>\n",
       "      <td>False</td>\n",
       "      <td>NaN</td>\n",
       "      <td>Citation</td>\n",
       "      <td>False</td>\n",
       "      <td>7.0</td>\n",
       "      <td>False</td>\n",
       "    </tr>\n",
       "    <tr>\n",
       "      <th>1</th>\n",
       "      <td>1/18/2005</td>\n",
       "      <td>8:15</td>\n",
       "      <td>M</td>\n",
       "      <td>1965.0</td>\n",
       "      <td>40.0</td>\n",
       "      <td>White</td>\n",
       "      <td>Speeding</td>\n",
       "      <td>Speeding</td>\n",
       "      <td>False</td>\n",
       "      <td>NaN</td>\n",
       "      <td>Citation</td>\n",
       "      <td>False</td>\n",
       "      <td>7.0</td>\n",
       "      <td>False</td>\n",
       "    </tr>\n",
       "    <tr>\n",
       "      <th>2</th>\n",
       "      <td>1/23/2005</td>\n",
       "      <td>23:15</td>\n",
       "      <td>M</td>\n",
       "      <td>1972.0</td>\n",
       "      <td>33.0</td>\n",
       "      <td>White</td>\n",
       "      <td>Speeding</td>\n",
       "      <td>Speeding</td>\n",
       "      <td>False</td>\n",
       "      <td>NaN</td>\n",
       "      <td>Citation</td>\n",
       "      <td>False</td>\n",
       "      <td>7.0</td>\n",
       "      <td>False</td>\n",
       "    </tr>\n",
       "    <tr>\n",
       "      <th>3</th>\n",
       "      <td>2/20/2005</td>\n",
       "      <td>17:15</td>\n",
       "      <td>M</td>\n",
       "      <td>1986.0</td>\n",
       "      <td>19.0</td>\n",
       "      <td>White</td>\n",
       "      <td>Call for Service</td>\n",
       "      <td>Other</td>\n",
       "      <td>False</td>\n",
       "      <td>NaN</td>\n",
       "      <td>Arrest Driver</td>\n",
       "      <td>True</td>\n",
       "      <td>24.0</td>\n",
       "      <td>False</td>\n",
       "    </tr>\n",
       "    <tr>\n",
       "      <th>4</th>\n",
       "      <td>3/14/2005</td>\n",
       "      <td>10:00</td>\n",
       "      <td>F</td>\n",
       "      <td>1984.0</td>\n",
       "      <td>21.0</td>\n",
       "      <td>White</td>\n",
       "      <td>Speeding</td>\n",
       "      <td>Speeding</td>\n",
       "      <td>False</td>\n",
       "      <td>NaN</td>\n",
       "      <td>Citation</td>\n",
       "      <td>False</td>\n",
       "      <td>7.0</td>\n",
       "      <td>False</td>\n",
       "    </tr>\n",
       "  </tbody>\n",
       "</table>\n",
       "</div>"
      ],
      "text/plain": [
       "   stop_date stop_time driver_gender  driver_age_raw  driver_age driver_race  \\\n",
       "0   1/2/2005      1:55             M          1985.0        20.0       White   \n",
       "1  1/18/2005      8:15             M          1965.0        40.0       White   \n",
       "2  1/23/2005     23:15             M          1972.0        33.0       White   \n",
       "3  2/20/2005     17:15             M          1986.0        19.0       White   \n",
       "4  3/14/2005     10:00             F          1984.0        21.0       White   \n",
       "\n",
       "      violation_raw violation  search_conducted search_type   stop_outcome  \\\n",
       "0          Speeding  Speeding             False         NaN       Citation   \n",
       "1          Speeding  Speeding             False         NaN       Citation   \n",
       "2          Speeding  Speeding             False         NaN       Citation   \n",
       "3  Call for Service     Other             False         NaN  Arrest Driver   \n",
       "4          Speeding  Speeding             False         NaN       Citation   \n",
       "\n",
       "  is_arrested  stop_duration  drugs_related_stop  \n",
       "0       False            7.0               False  \n",
       "1       False            7.0               False  \n",
       "2       False            7.0               False  \n",
       "3        True           24.0               False  \n",
       "4       False            7.0               False  "
      ]
     },
     "execution_count": 45,
     "metadata": {},
     "output_type": "execute_result"
    }
   ],
   "source": [
    "df.head()"
   ]
  },
  {
   "cell_type": "markdown",
   "id": "fbc484a6-6850-4f71-9298-a185f7eb98ee",
   "metadata": {},
   "source": [
    "* Get the average stop_duration "
   ]
  },
  {
   "cell_type": "code",
   "execution_count": 46,
   "id": "5685f107-09ca-4561-a517-b393b6356235",
   "metadata": {},
   "outputs": [
    {
     "data": {
      "text/plain": [
       "np.float64(11.802062660637016)"
      ]
     },
     "execution_count": 46,
     "metadata": {},
     "output_type": "execute_result"
    }
   ],
   "source": [
    "df['stop_duration'].mean()"
   ]
  },
  {
   "cell_type": "markdown",
   "id": "169a053e-cb34-406a-8aac-d6022afce88e",
   "metadata": {},
   "source": [
    "# Compare the age distributions for each violations"
   ]
  },
  {
   "cell_type": "code",
   "execution_count": 47,
   "id": "10931383-3af0-4982-9f5e-e62e82d4b3e7",
   "metadata": {},
   "outputs": [
    {
     "data": {
      "text/html": [
       "<div>\n",
       "<style scoped>\n",
       "    .dataframe tbody tr th:only-of-type {\n",
       "        vertical-align: middle;\n",
       "    }\n",
       "\n",
       "    .dataframe tbody tr th {\n",
       "        vertical-align: top;\n",
       "    }\n",
       "\n",
       "    .dataframe thead th {\n",
       "        text-align: right;\n",
       "    }\n",
       "</style>\n",
       "<table border=\"1\" class=\"dataframe\">\n",
       "  <thead>\n",
       "    <tr style=\"text-align: right;\">\n",
       "      <th></th>\n",
       "      <th>stop_date</th>\n",
       "      <th>stop_time</th>\n",
       "      <th>driver_gender</th>\n",
       "      <th>driver_age_raw</th>\n",
       "      <th>driver_age</th>\n",
       "      <th>driver_race</th>\n",
       "      <th>violation_raw</th>\n",
       "      <th>violation</th>\n",
       "      <th>search_conducted</th>\n",
       "      <th>search_type</th>\n",
       "      <th>stop_outcome</th>\n",
       "      <th>is_arrested</th>\n",
       "      <th>stop_duration</th>\n",
       "      <th>drugs_related_stop</th>\n",
       "    </tr>\n",
       "  </thead>\n",
       "  <tbody>\n",
       "    <tr>\n",
       "      <th>0</th>\n",
       "      <td>1/2/2005</td>\n",
       "      <td>1:55</td>\n",
       "      <td>M</td>\n",
       "      <td>1985.0</td>\n",
       "      <td>20.0</td>\n",
       "      <td>White</td>\n",
       "      <td>Speeding</td>\n",
       "      <td>Speeding</td>\n",
       "      <td>False</td>\n",
       "      <td>NaN</td>\n",
       "      <td>Citation</td>\n",
       "      <td>False</td>\n",
       "      <td>7.0</td>\n",
       "      <td>False</td>\n",
       "    </tr>\n",
       "    <tr>\n",
       "      <th>1</th>\n",
       "      <td>1/18/2005</td>\n",
       "      <td>8:15</td>\n",
       "      <td>M</td>\n",
       "      <td>1965.0</td>\n",
       "      <td>40.0</td>\n",
       "      <td>White</td>\n",
       "      <td>Speeding</td>\n",
       "      <td>Speeding</td>\n",
       "      <td>False</td>\n",
       "      <td>NaN</td>\n",
       "      <td>Citation</td>\n",
       "      <td>False</td>\n",
       "      <td>7.0</td>\n",
       "      <td>False</td>\n",
       "    </tr>\n",
       "  </tbody>\n",
       "</table>\n",
       "</div>"
      ],
      "text/plain": [
       "   stop_date stop_time driver_gender  driver_age_raw  driver_age driver_race  \\\n",
       "0   1/2/2005      1:55             M          1985.0        20.0       White   \n",
       "1  1/18/2005      8:15             M          1965.0        40.0       White   \n",
       "\n",
       "  violation_raw violation  search_conducted search_type stop_outcome  \\\n",
       "0      Speeding  Speeding             False         NaN     Citation   \n",
       "1      Speeding  Speeding             False         NaN     Citation   \n",
       "\n",
       "  is_arrested  stop_duration  drugs_related_stop  \n",
       "0       False            7.0               False  \n",
       "1       False            7.0               False  "
      ]
     },
     "execution_count": 47,
     "metadata": {},
     "output_type": "execute_result"
    }
   ],
   "source": [
    "df.head(2)"
   ]
  },
  {
   "cell_type": "code",
   "execution_count": 48,
   "id": "ae1d45bd-591f-4159-8b74-2c087cd74e9c",
   "metadata": {},
   "outputs": [
    {
     "data": {
      "text/html": [
       "<div>\n",
       "<style scoped>\n",
       "    .dataframe tbody tr th:only-of-type {\n",
       "        vertical-align: middle;\n",
       "    }\n",
       "\n",
       "    .dataframe tbody tr th {\n",
       "        vertical-align: top;\n",
       "    }\n",
       "\n",
       "    .dataframe thead th {\n",
       "        text-align: right;\n",
       "    }\n",
       "</style>\n",
       "<table border=\"1\" class=\"dataframe\">\n",
       "  <thead>\n",
       "    <tr style=\"text-align: right;\">\n",
       "      <th></th>\n",
       "      <th>driver_age_raw</th>\n",
       "      <th>driver_age</th>\n",
       "      <th>stop_duration</th>\n",
       "    </tr>\n",
       "  </thead>\n",
       "  <tbody>\n",
       "    <tr>\n",
       "      <th>count</th>\n",
       "      <td>61481.000000</td>\n",
       "      <td>61228.000000</td>\n",
       "      <td>61474.000000</td>\n",
       "    </tr>\n",
       "    <tr>\n",
       "      <th>mean</th>\n",
       "      <td>1967.791106</td>\n",
       "      <td>34.148984</td>\n",
       "      <td>11.802063</td>\n",
       "    </tr>\n",
       "    <tr>\n",
       "      <th>std</th>\n",
       "      <td>121.050106</td>\n",
       "      <td>12.760710</td>\n",
       "      <td>9.640422</td>\n",
       "    </tr>\n",
       "    <tr>\n",
       "      <th>min</th>\n",
       "      <td>0.000000</td>\n",
       "      <td>15.000000</td>\n",
       "      <td>7.000000</td>\n",
       "    </tr>\n",
       "    <tr>\n",
       "      <th>25%</th>\n",
       "      <td>1965.000000</td>\n",
       "      <td>23.000000</td>\n",
       "      <td>7.000000</td>\n",
       "    </tr>\n",
       "    <tr>\n",
       "      <th>50%</th>\n",
       "      <td>1978.000000</td>\n",
       "      <td>31.000000</td>\n",
       "      <td>7.000000</td>\n",
       "    </tr>\n",
       "    <tr>\n",
       "      <th>75%</th>\n",
       "      <td>1985.000000</td>\n",
       "      <td>43.000000</td>\n",
       "      <td>7.000000</td>\n",
       "    </tr>\n",
       "    <tr>\n",
       "      <th>max</th>\n",
       "      <td>8801.000000</td>\n",
       "      <td>88.000000</td>\n",
       "      <td>45.000000</td>\n",
       "    </tr>\n",
       "  </tbody>\n",
       "</table>\n",
       "</div>"
      ],
      "text/plain": [
       "       driver_age_raw    driver_age  stop_duration\n",
       "count    61481.000000  61228.000000   61474.000000\n",
       "mean      1967.791106     34.148984      11.802063\n",
       "std        121.050106     12.760710       9.640422\n",
       "min          0.000000     15.000000       7.000000\n",
       "25%       1965.000000     23.000000       7.000000\n",
       "50%       1978.000000     31.000000       7.000000\n",
       "75%       1985.000000     43.000000       7.000000\n",
       "max       8801.000000     88.000000      45.000000"
      ]
     },
     "execution_count": 48,
     "metadata": {},
     "output_type": "execute_result"
    }
   ],
   "source": [
    "df.describe()"
   ]
  },
  {
   "cell_type": "code",
   "execution_count": 49,
   "id": "d14b4737-4dc6-4475-a7fc-90cec0439e92",
   "metadata": {},
   "outputs": [
    {
     "data": {
      "text/html": [
       "<div>\n",
       "<style scoped>\n",
       "    .dataframe tbody tr th:only-of-type {\n",
       "        vertical-align: middle;\n",
       "    }\n",
       "\n",
       "    .dataframe tbody tr th {\n",
       "        vertical-align: top;\n",
       "    }\n",
       "\n",
       "    .dataframe thead th {\n",
       "        text-align: right;\n",
       "    }\n",
       "</style>\n",
       "<table border=\"1\" class=\"dataframe\">\n",
       "  <thead>\n",
       "    <tr style=\"text-align: right;\">\n",
       "      <th></th>\n",
       "      <th>count</th>\n",
       "      <th>mean</th>\n",
       "      <th>std</th>\n",
       "      <th>min</th>\n",
       "      <th>25%</th>\n",
       "      <th>50%</th>\n",
       "      <th>75%</th>\n",
       "      <th>max</th>\n",
       "    </tr>\n",
       "    <tr>\n",
       "      <th>violation</th>\n",
       "      <th></th>\n",
       "      <th></th>\n",
       "      <th></th>\n",
       "      <th></th>\n",
       "      <th></th>\n",
       "      <th></th>\n",
       "      <th></th>\n",
       "      <th></th>\n",
       "    </tr>\n",
       "  </thead>\n",
       "  <tbody>\n",
       "    <tr>\n",
       "      <th>Equipment</th>\n",
       "      <td>6507.0</td>\n",
       "      <td>31.682957</td>\n",
       "      <td>11.380671</td>\n",
       "      <td>16.0</td>\n",
       "      <td>23.0</td>\n",
       "      <td>28.0</td>\n",
       "      <td>39.0</td>\n",
       "      <td>81.0</td>\n",
       "    </tr>\n",
       "    <tr>\n",
       "      <th>Moving violation</th>\n",
       "      <td>11876.0</td>\n",
       "      <td>36.736443</td>\n",
       "      <td>13.258350</td>\n",
       "      <td>15.0</td>\n",
       "      <td>25.0</td>\n",
       "      <td>35.0</td>\n",
       "      <td>47.0</td>\n",
       "      <td>86.0</td>\n",
       "    </tr>\n",
       "    <tr>\n",
       "      <th>Other</th>\n",
       "      <td>3477.0</td>\n",
       "      <td>40.362381</td>\n",
       "      <td>12.754423</td>\n",
       "      <td>16.0</td>\n",
       "      <td>30.0</td>\n",
       "      <td>41.0</td>\n",
       "      <td>50.0</td>\n",
       "      <td>86.0</td>\n",
       "    </tr>\n",
       "    <tr>\n",
       "      <th>Registration/plates</th>\n",
       "      <td>2240.0</td>\n",
       "      <td>32.656696</td>\n",
       "      <td>11.150780</td>\n",
       "      <td>16.0</td>\n",
       "      <td>24.0</td>\n",
       "      <td>30.0</td>\n",
       "      <td>40.0</td>\n",
       "      <td>74.0</td>\n",
       "    </tr>\n",
       "    <tr>\n",
       "      <th>Seat belt</th>\n",
       "      <td>3.0</td>\n",
       "      <td>30.333333</td>\n",
       "      <td>10.214369</td>\n",
       "      <td>23.0</td>\n",
       "      <td>24.5</td>\n",
       "      <td>26.0</td>\n",
       "      <td>34.0</td>\n",
       "      <td>42.0</td>\n",
       "    </tr>\n",
       "    <tr>\n",
       "      <th>Speeding</th>\n",
       "      <td>37120.0</td>\n",
       "      <td>33.262581</td>\n",
       "      <td>12.615781</td>\n",
       "      <td>15.0</td>\n",
       "      <td>23.0</td>\n",
       "      <td>30.0</td>\n",
       "      <td>42.0</td>\n",
       "      <td>88.0</td>\n",
       "    </tr>\n",
       "  </tbody>\n",
       "</table>\n",
       "</div>"
      ],
      "text/plain": [
       "                       count       mean        std   min   25%   50%   75%  \\\n",
       "violation                                                                    \n",
       "Equipment             6507.0  31.682957  11.380671  16.0  23.0  28.0  39.0   \n",
       "Moving violation     11876.0  36.736443  13.258350  15.0  25.0  35.0  47.0   \n",
       "Other                 3477.0  40.362381  12.754423  16.0  30.0  41.0  50.0   \n",
       "Registration/plates   2240.0  32.656696  11.150780  16.0  24.0  30.0  40.0   \n",
       "Seat belt                3.0  30.333333  10.214369  23.0  24.5  26.0  34.0   \n",
       "Speeding             37120.0  33.262581  12.615781  15.0  23.0  30.0  42.0   \n",
       "\n",
       "                      max  \n",
       "violation                  \n",
       "Equipment            81.0  \n",
       "Moving violation     86.0  \n",
       "Other                86.0  \n",
       "Registration/plates  74.0  \n",
       "Seat belt            42.0  \n",
       "Speeding             88.0  "
      ]
     },
     "execution_count": 49,
     "metadata": {},
     "output_type": "execute_result"
    }
   ],
   "source": [
    "df.groupby('violation').driver_age.describe()"
   ]
  },
  {
   "cell_type": "code",
   "execution_count": null,
   "id": "80a8c94d-594b-49bf-861e-968805a3880c",
   "metadata": {},
   "outputs": [],
   "source": []
  }
 ],
 "metadata": {
  "kernelspec": {
   "display_name": "Python [conda env:base] *",
   "language": "python",
   "name": "conda-base-py"
  },
  "language_info": {
   "codemirror_mode": {
    "name": "ipython",
    "version": 3
   },
   "file_extension": ".py",
   "mimetype": "text/x-python",
   "name": "python",
   "nbconvert_exporter": "python",
   "pygments_lexer": "ipython3",
   "version": "3.13.5"
  }
 },
 "nbformat": 4,
 "nbformat_minor": 5
}
